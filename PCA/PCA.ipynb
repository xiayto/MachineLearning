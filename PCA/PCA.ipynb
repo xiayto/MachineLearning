{
 "cells": [
  {
   "cell_type": "code",
   "execution_count": 49,
   "metadata": {},
   "outputs": [],
   "source": [
    "import numpy as np\n",
    "from sklearn import datasets\n",
    "import matplotlib.pyplot as plt"
   ]
  },
  {
   "cell_type": "code",
   "execution_count": 42,
   "metadata": {},
   "outputs": [],
   "source": [
    "loaded_data = datasets.load_iris()\n",
    "data = loaded_data.data"
   ]
  },
  {
   "cell_type": "code",
   "execution_count": 43,
   "metadata": {},
   "outputs": [
    {
     "data": {
      "text/plain": [
       "(150, 4)"
      ]
     },
     "execution_count": 43,
     "metadata": {},
     "output_type": "execute_result"
    }
   ],
   "source": [
    "data.shape"
   ]
  },
  {
   "cell_type": "code",
   "execution_count": 40,
   "metadata": {},
   "outputs": [],
   "source": [
    "# 零均值化，和求各列均值\n",
    "def zero_mean(data):\n",
    "    mean_val = np.mean(data, axis=0) #按列求均值，求各个特征的均值\n",
    "    new_data = data - mean_val\n",
    "    return new_data, mean_val\n",
    "\n",
    "# 求满足百分比的前n个特征值得个数，返回n的值\n",
    "def percent2n(eigVals, percent):\n",
    "    sortArray = np.sort(eigVals) # 升序\n",
    "    sortArray = sortArray[-1::-1] # 反转\n",
    "    arraySum = sum(sortArray)\n",
    "    tmp = 0\n",
    "    num = 0\n",
    "    for i in sortArray:\n",
    "        tmp += i\n",
    "        num += 1\n",
    "        if tmp / arraySum >= percent:\n",
    "            return num\n",
    "\n",
    "def PCA(data, percent=0.99):\n",
    "    new_data, mean_val = zero_mean(data)\n",
    "    covMat = np.cov(new_data, rowvar=0) # 求协方差矩阵\n",
    "    \n",
    "    eigVals, eigVects = np.linalg.eig(np.mat(covMat))\n",
    "    if type(percent) == float:\n",
    "        n = percent2n(eigVals, percent)\n",
    "    elif type(percent) == int:\n",
    "        n = percent\n",
    "    else:\n",
    "        raise Exception(\"percent should be int or float\")\n",
    "        \n",
    "    index_eigVals = np.argsort(eigVals)\n",
    "    index_eigVects = index_eigVals[-n:][::-1]\n",
    "    n_eigVect = eigVects[:, index_eigVects]\n",
    "    low_data = new_data * n_eigVect\n",
    "    recon_data = (low_data * n_eigVect.T) + mean_val\n",
    "    return low_data, recon_data"
   ]
  },
  {
   "cell_type": "code",
   "execution_count": 55,
   "metadata": {},
   "outputs": [],
   "source": [
    "low_data, recon_data = PCA(data, 2)"
   ]
  },
  {
   "cell_type": "code",
   "execution_count": 56,
   "metadata": {},
   "outputs": [
    {
     "data": {
      "text/plain": [
       "(150, 1)"
      ]
     },
     "execution_count": 56,
     "metadata": {},
     "output_type": "execute_result"
    }
   ],
   "source": [
    "low_data[:,0].shape"
   ]
  },
  {
   "cell_type": "code",
   "execution_count": 57,
   "metadata": {},
   "outputs": [
    {
     "data": {
      "image/png": "[encoded data removed]",
      "text/plain": [
       "<Figure size 432x288 with 1 Axes>"
      ]
     },
     "metadata": {},
     "output_type": "display_data"
    }
   ],
   "source": [
    "plt.scatter(list(low_data[:,0]), list(low_data[:,1]))\n",
    "plt.xlabel(\"x\")\n",
    "plt.ylabel(\"y\")\n",
    "plt.title(\"iris\")\n",
    "plt.show()"
   ]
  },
  {
   "cell_type": "code",
   "execution_count": null,
   "metadata": {},
   "outputs": [],
   "source": []
  }
 ],
 "metadata": {
  "kernelspec": {
   "display_name": "Python 3",
   "language": "python",
   "name": "python3"
  },
  "language_info": {
   "codemirror_mode": {
    "name": "ipython",
    "version": 3
   },
   "file_extension": ".py",
   "mimetype": "text/x-python",
   "name": "python",
   "nbconvert_exporter": "python",
   "pygments_lexer": "ipython3",
   "version": "3.6.5"
  }
 },
 "nbformat": 4,
 "nbformat_minor": 2
}
