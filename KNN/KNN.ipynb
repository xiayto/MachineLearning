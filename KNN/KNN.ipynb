{
 "cells": [
  {
   "cell_type": "code",
   "execution_count": 1,
   "metadata": {},
   "outputs": [],
   "source": [
    "import numpy as np\n",
    "from sklearn import datasets\n",
    "import matplotlib.pyplot as plt\n",
    "from sklearn.model_selection import train_test_split "
   ]
  },
  {
   "cell_type": "code",
   "execution_count": 3,
   "metadata": {},
   "outputs": [],
   "source": [
    "loaded_data = datasets.load_digits()\n",
    "data = loaded_data.data\n",
    "label = loaded_data.target\n",
    "\n",
    "x_train, x_test, y_train, y_test = train_test_split(data, label, test_size=0.2)"
   ]
  },
  {
   "cell_type": "code",
   "execution_count": 7,
   "metadata": {},
   "outputs": [],
   "source": [
    "# 根据欧式距离，K个邻居中，用投票的方式选择出样本的预测类型。\n",
    "def classify(inX, trainData, label, k):\n",
    "    len_trainData = trainData.shape[0]\n",
    "    copy_inX = np.tile(inX, (len_trainData, 1))  #np.tile(A, (a, b)) 表示A循环b此，再复制a份\n",
    "    distanceMat = copy_inX - trainData\n",
    "    # 欧式距离计算\n",
    "    distanceMat = distanceMat ** 2\n",
    "    distanceSum = distanceMat.sum(axis = 1) #行为方向求和，如果axis=0，是列为方向的求和\n",
    "    distances = distanceSum ** 0.5\n",
    "    sortDistancesIndex = distances.argsort()\n",
    "    classCount = {}\n",
    "    for i in range(k):\n",
    "        voteLabel = label[sortDistancesIndex[i]]\n",
    "        classCount[voteLabel] = classCount.get(voteLabel, 0) + 1 #字典get方法，get(key, init)\n",
    "    sortedClassCount = sorted(classCount.items(), key=lambda x:x[1], reverse=True)\n",
    "    return sortedClassCount[0][0]    \n",
    "    "
   ]
  },
  {
   "cell_type": "code",
   "execution_count": 8,
   "metadata": {},
   "outputs": [],
   "source": [
    "def evaluateKNN(x_train, y_train, x_test, y_test, k):\n",
    "    error = 0\n",
    "    for i in range(x_test.shape[0]):\n",
    "        labelI = classify(x_test[i], x_train, y_train, k)\n",
    "        if labelI != y_test[i]:\n",
    "            error += 1\n",
    "    return 1 - error/x_test.shape[0] "
   ]
  },
  {
   "cell_type": "code",
   "execution_count": 19,
   "metadata": {},
   "outputs": [],
   "source": [
    "acc = evaluateKNN(x_train, y_train, x_test, y_test, 3)\n",
    "\n",
    "# k = 1, acc = 0.9916\n",
    "# k = 3, acc = 0.986"
   ]
  }
 ],
 "metadata": {
  "kernelspec": {
   "display_name": "Python 3",
   "language": "python",
   "name": "python3"
  },
  "language_info": {
   "codemirror_mode": {
    "name": "ipython",
    "version": 3
   },
   "file_extension": ".py",
   "mimetype": "text/x-python",
   "name": "python",
   "nbconvert_exporter": "python",
   "pygments_lexer": "ipython3",
   "version": "3.6.5"
  }
 },
 "nbformat": 4,
 "nbformat_minor": 2
}
